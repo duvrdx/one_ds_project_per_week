{
 "cells": [
  {
   "cell_type": "markdown",
   "metadata": {},
   "source": [
    "## Spam or Ham Classification\n",
    "\n",
    "This is a basic project that consists of classifying a text sentence coming from an email, and classifying whether this email is spam or ham (a non-spam)"
   ]
  },
  {
   "cell_type": "code",
   "execution_count": 3,
   "metadata": {},
   "outputs": [],
   "source": [
    "import numpy as np\n",
    "import pandas as pd\n",
    "from sklearn.feature_extraction.text import CountVectorizer\n",
    "from sklearn.model_selection import train_test_split\n",
    "from sklearn.naive_bayes import MultinomialNB"
   ]
  },
  {
   "cell_type": "markdown",
   "metadata": {},
   "source": [
    "## The Start\n",
    "Importing the dataset *\".csv\" with* **pandas**, and splitting the dataset in train and test with **sklearn**.\n",
    "The dataset is available at [Kaggle - Spam Mails Dataset](https://www.kaggle.com/datasets/venky73/spam-mails-dataset)"
   ]
  },
  {
   "cell_type": "code",
   "execution_count": 4,
   "metadata": {},
   "outputs": [],
   "source": [
    "dataset = pd.read_csv(\"dataset.csv\")\n",
    "x_train, x_test, y_train, y_test =  train_test_split(dataset[\"text\"], dataset[\"label_num\"], test_size=.3, random_state=1)"
   ]
  },
  {
   "cell_type": "markdown",
   "metadata": {},
   "source": [
    "## Preparing the Data\n",
    "Before model development, we need to prepare the data to use as inputs to our classifier. For this we will vectorize our training and test data, creating a kind of dictionary that contains all the words used in the input data. We will use a function from the **sklearn** library called ***CountVectorizer()*** that will count the appearances of each word in each input data.\n"
   ]
  },
  {
   "cell_type": "code",
   "execution_count": 10,
   "metadata": {},
   "outputs": [],
   "source": [
    "count_vectorizer = CountVectorizer()\n",
    "train_data = count_vectorizer.fit_transform(x_train)\n",
    "test_data = count_vectorizer.transform(x_test)"
   ]
  },
  {
   "cell_type": "markdown",
   "metadata": {},
   "source": [
    "## The model\n",
    "The model chosen was the Naive Bayes algorithm, we used the implementation available in the sklearn library"
   ]
  },
  {
   "cell_type": "code",
   "execution_count": 13,
   "metadata": {},
   "outputs": [
    {
     "data": {
      "text/plain": [
       "MultinomialNB()"
      ]
     },
     "execution_count": 13,
     "metadata": {},
     "output_type": "execute_result"
    }
   ],
   "source": [
    "naive_bayes = MultinomialNB()\n",
    "naive_bayes.fit(train_data, y_train)"
   ]
  },
  {
   "cell_type": "markdown",
   "metadata": {},
   "source": [
    "## Results\n",
    "To evaluate our model, we used the most common metrics in the literature. Of course, there are more current and safer forms of evaluation, such as cross-validation, but for such a simple problem it was not considered necessary."
   ]
  },
  {
   "cell_type": "code",
   "execution_count": 14,
   "metadata": {},
   "outputs": [],
   "source": [
    "predictions = naive_bayes.predict(test_data)"
   ]
  },
  {
   "cell_type": "code",
   "execution_count": 16,
   "metadata": {},
   "outputs": [
    {
     "name": "stdout",
     "output_type": "stream",
     "text": [
      "Accuracy:0.9819587628865979\n",
      "F1:0.96875\n",
      "Precision:0.9623059866962306\n",
      "Recall:0.9752808988764045\n"
     ]
    }
   ],
   "source": [
    "from sklearn.metrics import accuracy_score, f1_score, precision_score, recall_score\n",
    "\n",
    "print(\"Accuracy:\" + format(accuracy_score(predictions, y_test)))\n",
    "print(\"F1:\" + format(f1_score(predictions, y_test)))\n",
    "print(\"Precision:\" + format(precision_score(predictions, y_test)))\n",
    "print(\"Recall:\" + format(recall_score(predictions, y_test)))\n",
    "\n"
   ]
  },
  {
   "cell_type": "markdown",
   "metadata": {},
   "source": [
    "## Conclusion\n",
    "\n",
    "The results of the model evaluation are satisfactory, considering the size of the dataset"
   ]
  }
 ],
 "metadata": {
  "interpreter": {
   "hash": "d92e41e07957c2bbe762007c8fab230fc6aac36b568b6f8fb0726a2fe21477f2"
  },
  "kernelspec": {
   "display_name": "Python 3.9.12 ('base')",
   "language": "python",
   "name": "python3"
  },
  "language_info": {
   "codemirror_mode": {
    "name": "ipython",
    "version": 3
   },
   "file_extension": ".py",
   "mimetype": "text/x-python",
   "name": "python",
   "nbconvert_exporter": "python",
   "pygments_lexer": "ipython3",
   "version": "3.9.12"
  },
  "orig_nbformat": 4
 },
 "nbformat": 4,
 "nbformat_minor": 2
}
